{
 "cells": [
  {
   "cell_type": "code",
   "execution_count": 9,
   "metadata": {},
   "outputs": [],
   "source": [
    "import os\n",
    "import pandas as pd\n",
    "\n",
    "# Function that counts bounding boxes in a txt file\n",
    "def count_bounding_boxes(file_path):\n",
    "    with open(file_path, 'r') as file:\n",
    "        return sum(1 for line in file)\n",
    "\n",
    "# Empty dict\n",
    "bounding_boxes = {}  \n",
    "\n",
    "# Folders with yolo annotations\n",
    "yolo_annotations = '../yolo-annotations/'\n",
    "folders = [folder for folder in os.listdir(yolo_annotations) if folder != '.DS_Store']\n",
    "\n",
    "for folder in folders:\n",
    "    folder_path = os.path.join(yolo_annotations, folder)\n",
    "    # txt files\n",
    "    files = [file for file in os.listdir(folder_path) if file.endswith('.txt')]\n",
    "    for file in files:\n",
    "        # File path inside the current folder\n",
    "        annotation_file = os.path.join(folder_path, file)\n",
    "        # Cleaner name\n",
    "        image = file.rstrip('.txt')\n",
    "        # Check if the path is a file\n",
    "        if os.path.isfile(annotation_file):\n",
    "            # add to dict\n",
    "            bounding_boxes[image] = count_bounding_boxes(annotation_file)\n",
    "\n",
    "# Create a dataframe\n",
    "df = pd.DataFrame(list(bounding_boxes.items()), columns=['Image', 'Bounding_Box_Count'])\n"
   ]
  },
  {
   "cell_type": "code",
   "execution_count": 11,
   "metadata": {},
   "outputs": [
    {
     "data": {
      "text/plain": [
       "2480"
      ]
     },
     "execution_count": 11,
     "metadata": {},
     "output_type": "execute_result"
    }
   ],
   "source": [
    "len(df)"
   ]
  },
  {
   "cell_type": "code",
   "execution_count": 12,
   "metadata": {},
   "outputs": [],
   "source": [
    "df.to_csv('../data/processed/yolo_annotation_counts.csv')"
   ]
  }
 ],
 "metadata": {
  "kernelspec": {
   "display_name": "Python 3.11.3 ('anly677')",
   "language": "python",
   "name": "python3"
  },
  "language_info": {
   "codemirror_mode": {
    "name": "ipython",
    "version": 3
   },
   "file_extension": ".py",
   "mimetype": "text/x-python",
   "name": "python",
   "nbconvert_exporter": "python",
   "pygments_lexer": "ipython3",
   "version": "3.8.8"
  },
  "orig_nbformat": 4,
  "vscode": {
   "interpreter": {
    "hash": "5515eba999d8e3f381439521ff9ea3b6fa92255b401231888f52fd5f78bc9813"
   }
  }
 },
 "nbformat": 4,
 "nbformat_minor": 2
}

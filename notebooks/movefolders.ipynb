{
 "cells": [
  {
   "cell_type": "code",
   "execution_count": null,
   "metadata": {},
   "outputs": [],
   "source": [
    "import os\n",
    "import shutil\n",
    "import glob\n",
    "import random\n",
    "\n",
    "to_be_moved = random.sample(glob.glob(\"C:/Users/User/Desktop/Image/*.jpg\"), 6)\n",
    "\n",
    "for f in enumerate(to_be_moved, 1):\n",
    "    dest = os.path.join(\"C:/Users/User/Desktop\", str(f[0]))\n",
    "    if not os.path.exists(dest):\n",
    "        os.makedirs(dest)\n",
    "    shutil.copy(f[1], dest)"
   ]
  },
  {
   "cell_type": "code",
   "execution_count": 3,
   "metadata": {},
   "outputs": [],
   "source": [
    "import os\n",
    "import random\n",
    "import shutil\n",
    "from tqdm import tqdm\n",
    "\n",
    "\n",
    "class ImageSelector:\n",
    "    def __init__(self, source_folder, destination_folder):\n",
    "        self.source_folder = source_folder\n",
    "        self.destination_folder = destination_folder\n",
    "\n",
    "    def select_and_copy_images(self, num_images_to_copy):\n",
    "        image_files = self._get_image_files()\n",
    "\n",
    "        selected_images = random.sample(image_files, num_images_to_copy)\n",
    "\n",
    "        self._copy_images(selected_images)\n",
    "\n",
    "        print(f\"{num_images_to_copy} images copied to {self.destination_folder}.\")\n",
    "\n",
    "    def _get_image_files(self):\n",
    "        return [file for file in os.listdir(self.source_folder) if file.endswith('.jpg')]\n",
    "\n",
    "    def _copy_images(self, image_files):\n",
    "        for image in tqdm(image_files, desc='Copying images', unit='image'):\n",
    "            source_path = os.path.join(self.source_folder, image)\n",
    "            destination_path = os.path.join(self.destination_folder, image)\n",
    "            shutil.copyfile(source_path, destination_path)"
   ]
  },
  {
   "cell_type": "code",
   "execution_count": 4,
   "metadata": {},
   "outputs": [
    {
     "name": "stderr",
     "output_type": "stream",
     "text": [
      "Copying images: 100%|██████████| 6000/6000 [04:22<00:00, 22.88image/s]"
     ]
    },
    {
     "name": "stdout",
     "output_type": "stream",
     "text": [
      "6000 images copied to C:/Users/np617.la/Box/Georgetown/ANLY677/Project/Terra Incognita/1. Counting.\n"
     ]
    },
    {
     "name": "stderr",
     "output_type": "stream",
     "text": [
      "\n"
     ]
    }
   ],
   "source": [
    "\n",
    "# Usage example\n",
    "source_folder = 'C:/Users/np617.la/Downloads/Parrots'  # Replace with the path to your source folder\n",
    "destination_folder = 'C:/Users/np617.la/Box/Georgetown/ANLY677/Project/Terra Incognita/1. Counting'  # Replace with the path to your destination folder\n",
    "num_images_to_copy = 6000\n",
    "\n",
    "selector = ImageSelector(source_folder, destination_folder)\n",
    "selector.select_and_copy_images(num_images_to_copy)\n"
   ]
  }
 ],
 "metadata": {
  "kernelspec": {
   "display_name": "Python 3",
   "language": "python",
   "name": "python3"
  },
  "language_info": {
   "codemirror_mode": {
    "name": "ipython",
    "version": 3
   },
   "file_extension": ".py",
   "mimetype": "text/x-python",
   "name": "python",
   "nbconvert_exporter": "python",
   "pygments_lexer": "ipython3",
   "version": "3.9.13"
  },
  "orig_nbformat": 4
 },
 "nbformat": 4,
 "nbformat_minor": 2
}
